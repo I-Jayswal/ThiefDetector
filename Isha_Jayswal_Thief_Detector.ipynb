{
 "cells": [
  {
   "cell_type": "markdown",
   "metadata": {},
   "source": [
    "# Thief Detector\n",
    "## This task tests your Image Processing skills to build a motion detection algorithm that alarms you when you have an unwanted visitor in your home."
   ]
  },
  {
   "cell_type": "markdown",
   "metadata": {},
   "source": [
    "## Steps\n",
    "- 1. Get the live video feed from your webcam\n",
    "- 2. Fix a scene (the place you want to monitor) and store it as a reference background image\n",
    "    - Store the first frame as the reference background frame\n",
    "- 3. For every frame, check if there is any unwanted object inside the scene you are monitoring\n",
    "    - Use **Background Subtraction** concept (**cv2.absdiff( )**)\n",
    "        - Subtract the current frame from the reference background image(frame) to see the changes in the scene\n",
    "        - If there is enormous amount of pixels distrubed in the subtraction result image\n",
    "            - unwanted visitor (place is unsafe --> alarm the authorities)\n",
    "        - If there is no enormous amount of pixels distrubed in the subtraction result image\n",
    "            - no unwanted visitor (place is safe)\n",
    "- 4. Output the text **\"UNSAFE\"** in **red** color on the top right of the frame when there is an intruder in the scene.\n",
    "- 5. Save the live feed\n",
    "- 6. Submit the (.ipynb) file"
   ]
  },
  {
   "cell_type": "markdown",
   "metadata": {},
   "source": [
    "## Get live video feed from webcam [10 points]"
   ]
  },
  {
   "cell_type": "code",
   "execution_count": 2,
   "metadata": {
    "ExecuteTime": {
     "end_time": "2024-03-28T01:34:41.919332700Z",
     "start_time": "2024-03-28T01:34:27.772177400Z"
    }
   },
   "outputs": [],
   "source": [
    "import cv2\n",
    "\n",
    "# Initialize the video capture object for the webcam (0 for default webcam)\n",
    "webcam_capture = cv2.VideoCapture(0)\n",
    "\n",
    "# Define the codec and create VideoWriter object\n",
    "fourcc = cv2.VideoWriter_fourcc(*'XVID')\n",
    "video_out = cv2.VideoWriter('output.avi', fourcc, 20.0, (640, 480))\n",
    "\n",
    "while True:\n",
    "    # Read a frame from the webcam\n",
    "    ret, frame = webcam_capture.read()\n",
    "\n",
    "    # Check if the frame is valid\n",
    "    if not ret:\n",
    "        break\n",
    "\n",
    "    # Write the frame to the output video file\n",
    "    video_out.write(frame)\n",
    "\n",
    "    # Display the frame\n",
    "    cv2.imshow('Live Video Feed', frame)\n",
    "\n",
    "    # Check for the 'q' key to quit\n",
    "    if cv2.waitKey(1) & 0xFF == ord('q'):\n",
    "        break\n",
    "\n",
    "# Release the video capture object and close all windows\n",
    "webcam_capture.release()\n",
    "video_out.release()\n",
    "cv2.destroyAllWindows()\n"
   ]
  },
  {
   "cell_type": "markdown",
   "metadata": {},
   "source": [
    "## Read first frame, convert to Grayscale and store it as reference background image [10 points]"
   ]
  },
  {
   "cell_type": "code",
   "execution_count": 3,
   "metadata": {
    "ExecuteTime": {
     "end_time": "2024-03-28T01:34:53.330497500Z",
     "start_time": "2024-03-28T01:34:46.693502200Z"
    }
   },
   "outputs": [],
   "source": [
    "import cv2\n",
    "\n",
    "# Initialize the video capture object for the webcam (0 for default webcam)\n",
    "webcam_capture = cv2.VideoCapture(0)\n",
    "\n",
    "# Read the first frame from the webcam\n",
    "ret, initial_frame = webcam_capture.read()\n",
    "\n",
    "# Convert the first frame to grayscale\n",
    "gray_initial_frame = cv2.cvtColor(initial_frame, cv2.COLOR_BGR2GRAY)\n",
    "\n",
    "# Display the first frame\n",
    "cv2.imshow('Initial Frame', initial_frame)\n",
    "cv2.waitKey(0)  # Wait for a key press to proceed\n",
    "\n",
    "# Store the grayscale first frame as the reference background image\n",
    "cv2.imwrite('reference_background.jpg', gray_initial_frame)\n",
    "\n",
    "# Read another frame from the webcam\n",
    "ret, current_frame = webcam_capture.read()\n",
    "\n",
    "# Convert the current frame to grayscale\n",
    "gray_current_frame = cv2.cvtColor(current_frame, cv2.COLOR_BGR2GRAY)\n",
    "\n",
    "# Display the current frame\n",
    "cv2.imshow('Current Frame', current_frame)\n",
    "cv2.waitKey(0)  # Wait for a key press to proceed\n",
    "\n",
    "# Store the grayscale current frame as a separate image\n",
    "cv2.imwrite('current_frame.jpg', gray_current_frame)\n",
    "\n",
    "# Release the video capture object and close all windows\n",
    "webcam_capture.release()\n",
    "cv2.destroyAllWindows()\n"
   ]
  },
  {
   "cell_type": "markdown",
   "metadata": {},
   "source": [
    "## Compute Absolute Difference between Current and First frame [20 points]"
   ]
  },
  {
   "cell_type": "code",
   "execution_count": 4,
   "metadata": {
    "ExecuteTime": {
     "end_time": "2024-03-28T01:35:18.130282200Z",
     "start_time": "2024-03-28T01:34:58.522634300Z"
    }
   },
   "outputs": [],
   "source": [
    "import cv2\n",
    "\n",
    "# Initialize the video capture object for the webcam (0 for default webcam)\n",
    "webcam_capture = cv2.VideoCapture(0)\n",
    "\n",
    "# Read the first frame from the webcam\n",
    "ret, initial_frame = webcam_capture.read()\n",
    "\n",
    "# Convert the first frame to grayscale\n",
    "gray_initial_frame = cv2.cvtColor(initial_frame, cv2.COLOR_BGR2GRAY)\n",
    "\n",
    "# Display the first frame\n",
    "cv2.imshow('Initial Frame', initial_frame)\n",
    "cv2.waitKey(0)  # Wait for a key press to proceed\n",
    "\n",
    "# Store the grayscale first frame as the reference background image\n",
    "cv2.imwrite('reference_background.jpg', gray_initial_frame)\n",
    "\n",
    "while True:\n",
    "    # Read a frame from the webcam\n",
    "    ret, current_frame = webcam_capture.read()\n",
    "\n",
    "    # Convert the current frame to grayscale\n",
    "    gray_current_frame = cv2.cvtColor(current_frame, cv2.COLOR_BGR2GRAY)\n",
    "\n",
    "    # Compute the absolute difference between the current frame and the first frame\n",
    "    abs_diff_frame = cv2.absdiff(gray_current_frame, gray_initial_frame)\n",
    "\n",
    "    # Display the absolute difference frame\n",
    "    cv2.imshow('Absolute Difference Frame', abs_diff_frame)\n",
    "\n",
    "    # Check for the 'q' key to quit the video feed\n",
    "    if cv2.waitKey(1) & 0xFF == ord('q'):\n",
    "        break\n",
    "\n",
    "# Release the video capture object and close all windows\n",
    "webcam_capture.release()\n",
    "cv2.destroyAllWindows()"
   ]
  },
  {
   "cell_type": "markdown",
   "metadata": {},
   "source": [
    "## Apply threshold [5 points]"
   ]
  },
  {
   "cell_type": "code",
   "execution_count": 5,
   "metadata": {
    "ExecuteTime": {
     "end_time": "2024-03-28T01:35:40.195950700Z",
     "start_time": "2024-03-28T01:35:23.678067Z"
    }
   },
   "outputs": [],
   "source": [
    "import cv2\n",
    "\n",
    "# Initialize the video capture object for the webcam (0 for default webcam)\n",
    "webcam_capture = cv2.VideoCapture(0)\n",
    "\n",
    "# Read the first frame from the webcam\n",
    "ret, initial_frame = webcam_capture.read()\n",
    "\n",
    "# Convert the first frame to grayscale\n",
    "gray_initial_frame = cv2.cvtColor(initial_frame, cv2.COLOR_BGR2GRAY)\n",
    "\n",
    "# Display the first frame\n",
    "cv2.imshow('Initial Frame', initial_frame)\n",
    "cv2.waitKey(0)  # Wait for a key press to proceed\n",
    "\n",
    "# Store the grayscale first frame as the reference background image\n",
    "cv2.imwrite('reference_background.jpg', gray_initial_frame)\n",
    "\n",
    "while True:\n",
    "    # Read a frame from the webcam\n",
    "    ret, current_frame = webcam_capture.read()\n",
    "\n",
    "    # Convert the current frame to grayscale\n",
    "    gray_current_frame = cv2.cvtColor(current_frame, cv2.COLOR_BGR2GRAY)\n",
    "\n",
    "    # Compute the absolute difference between the current frame and the first frame\n",
    "    abs_diff_frame = cv2.absdiff(gray_current_frame, gray_initial_frame)\n",
    "\n",
    "    # Apply a threshold to the absolute difference frame\n",
    "    _, thresholded_frame = cv2.threshold(abs_diff_frame, 30, 255, cv2.THRESH_BINARY)\n",
    "\n",
    "    # Display the thresholded frame\n",
    "    cv2.imshow('Thresholded Frame', thresholded_frame)\n",
    "\n",
    "    # Check for the 'q' key to quit the video feed\n",
    "    if cv2.waitKey(1) & 0xFF == ord('q'):\n",
    "        break\n",
    "\n",
    "# Release the video capture object and close all windows\n",
    "webcam_capture.release()\n",
    "cv2.destroyAllWindows()"
   ]
  },
  {
   "cell_type": "markdown",
   "metadata": {},
   "source": [
    "## Find contours [10 points]"
   ]
  },
  {
   "cell_type": "code",
   "execution_count": 6,
   "metadata": {
    "ExecuteTime": {
     "end_time": "2024-03-28T01:36:04.761348600Z",
     "start_time": "2024-03-28T01:35:46.976873500Z"
    }
   },
   "outputs": [],
   "source": [
    "import cv2\n",
    "\n",
    "# Initialize the video capture object for the webcam (0 for default webcam)\n",
    "webcam_capture = cv2.VideoCapture(0)\n",
    "\n",
    "# Read the first frame from the webcam\n",
    "ret, initial_frame = webcam_capture.read()\n",
    "\n",
    "# Convert the first frame to grayscale\n",
    "gray_initial_frame = cv2.cvtColor(initial_frame, cv2.COLOR_BGR2GRAY)\n",
    "\n",
    "# Display the first frame\n",
    "cv2.imshow('Initial Frame', initial_frame)\n",
    "cv2.waitKey(0)  # Wait for a key press to proceed\n",
    "\n",
    "# Store the grayscale first frame as the reference background image\n",
    "cv2.imwrite('reference_background.jpg', gray_initial_frame)\n",
    "\n",
    "while True:\n",
    "    # Read a frame from the webcam\n",
    "    ret, current_frame = webcam_capture.read()\n",
    "\n",
    "    # Convert the current frame to grayscale\n",
    "    gray_current_frame = cv2.cvtColor(current_frame, cv2.COLOR_BGR2GRAY)\n",
    "\n",
    "    # Compute the absolute difference between the current frame and the first frame\n",
    "    abs_diff_frame = cv2.absdiff(gray_current_frame, gray_initial_frame)\n",
    "\n",
    "    # Apply a threshold to the absolute difference frame\n",
    "    _, thresholded_frame = cv2.threshold(abs_diff_frame, 30, 255, cv2.THRESH_BINARY)\n",
    "\n",
    "    # Find contours in the thresholded frame\n",
    "    contours, _ = cv2.findContours(thresholded_frame, cv2.RETR_EXTERNAL, cv2.CHAIN_APPROX_SIMPLE)\n",
    "\n",
    "    # Draw contours on the current frame\n",
    "    cv2.drawContours(current_frame, contours, -1, (0, 255, 0), 2)\n",
    "\n",
    "    # Display the current frame with contours\n",
    "    cv2.imshow('Frame with Contours', current_frame)\n",
    "\n",
    "    # Check for the 'q' key to quit the video feed\n",
    "    if cv2.waitKey(1) & 0xFF == ord('q'):\n",
    "        break\n",
    "\n",
    "# Release the video capture object and close all windows\n",
    "webcam_capture.release()\n",
    "cv2.destroyAllWindows()"
   ]
  },
  {
   "cell_type": "markdown",
   "metadata": {},
   "source": [
    "## Check if contourArea is large and draw rectangle around the object, output \"UNSAFE\" text in red color [30 points]"
   ]
  },
  {
   "cell_type": "code",
   "execution_count": 10,
   "metadata": {
    "ExecuteTime": {
     "end_time": "2024-03-28T02:35:44.604605800Z",
     "start_time": "2024-03-28T01:39:27.337249300Z"
    }
   },
   "outputs": [],
   "source": [
    "import cv2\n",
    "\n",
    "# Initialize the video capture object for the webcam (0 for default webcam)\n",
    "webcam_capture = cv2.VideoCapture(0)\n",
    "\n",
    "# Read the first frame from the webcam\n",
    "ret, initial_frame = webcam_capture.read()\n",
    "\n",
    "# Convert the first frame to grayscale\n",
    "if ret:\n",
    "    gray_initial_frame = cv2.cvtColor(initial_frame, cv2.COLOR_BGR2GRAY)\n",
    "    \n",
    "    # Display the first frame\n",
    "    cv2.imshow('Initial Frame', initial_frame)\n",
    "    cv2.waitKey(0)  # Wait for a key press to proceed\n",
    "\n",
    "    # Store the grayscale first frame as the reference background image\n",
    "    cv2.imwrite('reference_background.jpg', gray_initial_frame)\n",
    "\n",
    "    while True:\n",
    "        # Read a frame from the webcam\n",
    "        ret, current_frame = webcam_capture.read()\n",
    "\n",
    "        if not ret:\n",
    "            break\n",
    "\n",
    "        # Convert the current frame to grayscale\n",
    "        gray_current_frame = cv2.cvtColor(current_frame, cv2.COLOR_BGR2GRAY)\n",
    "\n",
    "        # Compute the absolute difference between the current frame and the first frame\n",
    "        abs_diff_frame = cv2.absdiff(gray_current_frame, gray_initial_frame)\n",
    "\n",
    "        # Apply a threshold to the absolute difference frame\n",
    "        _, thresholded_frame = cv2.threshold(abs_diff_frame, 30, 255, cv2.THRESH_BINARY)\n",
    "\n",
    "        # Find contours in the thresholded frame\n",
    "        contours, _ = cv2.findContours(thresholded_frame, cv2.RETR_EXTERNAL, cv2.CHAIN_APPROX_SIMPLE)\n",
    "\n",
    "        # Iterate through the contours\n",
    "        for contour in contours:\n",
    "            # Check if the contour area is large\n",
    "            if cv2.contourArea(contour) > 1000:  # Adjust the threshold as needed\n",
    "                # Get the bounding rectangle coordinates\n",
    "                x, y, w, h = cv2.boundingRect(contour)\n",
    "                \n",
    "                # Draw a rectangle around the object\n",
    "                cv2.rectangle(current_frame, (x, y), (x + w, y + h), (0, 0, 255), 2)\n",
    "                \n",
    "                # Put text \"UNSAFE\" in red color\n",
    "                cv2.putText(current_frame, \"UNSAFE\", (x, y - 10), cv2.FONT_HERSHEY_SIMPLEX, 0.5, (0, 0, 255), 2)\n",
    "\n",
    "        # Display the current frame with contours and rectangles\n",
    "        cv2.imshow('Frame with Contours', current_frame)\n",
    "\n",
    "        # Check for the 'q' key to quit the video feed\n",
    "        if cv2.waitKey(1) & 0xFF == ord('q'):\n",
    "            break\n",
    "\n",
    "# Release the video capture object and close all windows\n",
    "webcam_capture.release()\n",
    "cv2.destroyAllWindows()"
   ]
  },
  {
   "cell_type": "markdown",
   "metadata": {},
   "source": [
    "## Display images [10 points]"
   ]
  },
  {
   "cell_type": "code",
   "execution_count": 8,
   "metadata": {
    "ExecuteTime": {
     "end_time": "2024-03-28T01:38:04.035417300Z",
     "start_time": "2024-03-28T01:38:00.498205700Z"
    }
   },
   "outputs": [],
   "source": [
    "import cv2\n",
    "\n",
    "# Read an image from file\n",
    "image = cv2.imread('reference_background.jpg')\n",
    "\n",
    "# Display the image\n",
    "cv2.imshow('Image', image)\n",
    "\n",
    "# Wait for a key press and then close the window\n",
    "cv2.waitKey(0)\n",
    "cv2.destroyAllWindows()"
   ]
  },
  {
   "cell_type": "markdown",
   "metadata": {},
   "source": [
    "## Release objects [5 points]"
   ]
  },
  {
   "cell_type": "code",
   "execution_count": 9,
   "metadata": {
    "ExecuteTime": {
     "end_time": "2024-03-28T01:38:57.042678900Z",
     "start_time": "2024-03-28T01:38:57.036193900Z"
    }
   },
   "outputs": [],
   "source": [
    "# Release the video capture object\n",
    "webcam_capture.release()\n",
    "\n",
    "# Close all OpenCV windows\n",
    "cv2.destroyAllWindows()"
   ]
  }
 ],
 "metadata": {
  "kernelspec": {
   "name": "python3",
   "language": "python",
   "display_name": "Python 3 (ipykernel)"
  },
  "language_info": {
   "codemirror_mode": {
    "name": "ipython",
    "version": 3
   },
   "file_extension": ".py",
   "mimetype": "text/x-python",
   "name": "python",
   "nbconvert_exporter": "python",
   "pygments_lexer": "ipython3",
   "version": "3.8.5"
  }
 },
 "nbformat": 4,
 "nbformat_minor": 4
}
